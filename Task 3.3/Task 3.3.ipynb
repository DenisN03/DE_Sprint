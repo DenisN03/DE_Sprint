{
 "cells": [
  {
   "cell_type": "markdown",
   "id": "9a44a46e",
   "metadata": {},
   "source": [
    "## 3.3 Практика Spark"
   ]
  },
  {
   "cell_type": "markdown",
   "id": "ff61d294",
   "metadata": {},
   "source": [
    "### Импорты"
   ]
  },
  {
   "cell_type": "code",
   "execution_count": 35,
   "id": "5bb9cb41",
   "metadata": {},
   "outputs": [],
   "source": [
    "import pyspark.sql.types as T\n",
    "import pyspark.sql.functions as F\n",
    "from pyspark.sql.functions import udf\n",
    "import datetime"
   ]
  },
  {
   "cell_type": "markdown",
   "id": "1b3bb3df",
   "metadata": {},
   "source": [
    "### Connection"
   ]
  },
  {
   "cell_type": "code",
   "execution_count": 2,
   "id": "68e6c106",
   "metadata": {},
   "outputs": [
    {
     "name": "stderr",
     "output_type": "stream",
     "text": [
      "22/12/02 11:17:51 WARN NativeCodeLoader: Unable to load native-hadoop library for your platform... using builtin-java classes where applicable\n",
      "Using Spark's default log4j profile: org/apache/spark/log4j-defaults.properties\n",
      "Setting default log level to \"WARN\".\n",
      "To adjust logging level use sc.setLogLevel(newLevel). For SparkR, use setLogLevel(newLevel).\n"
     ]
    }
   ],
   "source": [
    "from pyspark.sql import SparkSession\n",
    "\n",
    "spark = SparkSession.\\\n",
    "        builder.\\\n",
    "        master(\"spark://spark-master:7077\").\\\n",
    "        appName(\"Task_3.3\").\\\n",
    "        config(\"spark.executor.memory\", \"512m\").\\\n",
    "        getOrCreate()"
   ]
  },
  {
   "cell_type": "markdown",
   "id": "e49add0c",
   "metadata": {},
   "source": [
    "### a. Создание схемы будущего фрейма данных"
   ]
  },
  {
   "cell_type": "code",
   "execution_count": 3,
   "id": "d9e9621b",
   "metadata": {},
   "outputs": [],
   "source": [
    "schema = T.StructType([\n",
    "                T.StructField(\"id\", T.IntegerType(), True),\n",
    "                T.StructField(\"timestamp\", T.LongType(), True),\n",
    "                T.StructField(\"type\", T.StringType(), True),\n",
    "                T.StructField(\"page_id\", T.IntegerType(), True),\n",
    "                T.StructField(\"tag\", T.StringType(), True),\n",
    "                T.StructField(\"sign\", T.BooleanType(), True)])"
   ]
  },
  {
   "cell_type": "markdown",
   "id": "395a72d8",
   "metadata": {},
   "source": [
    "### b. Создание датафрейма с описанной выше схемой данных"
   ]
  },
  {
   "cell_type": "code",
   "execution_count": 4,
   "id": "168fed21",
   "metadata": {},
   "outputs": [
    {
     "name": "stderr",
     "output_type": "stream",
     "text": [
      "[Stage 1:>                                                          (0 + 1) / 1]\r"
     ]
    },
    {
     "name": "stdout",
     "output_type": "stream",
     "text": [
      "+---+------+-------+--------+-----+-------------------+\n",
      "| id|  type|page_id|     tag| sign|               time|\n",
      "+---+------+-------+--------+-----+-------------------+\n",
      "|  1| visit|    100|   Sport|false|2022-06-07 12:34:55|\n",
      "|  1| click|    100|    Tech|false|2022-06-07 12:35:45|\n",
      "|  1| click|    100|    Tech|false|2022-06-07 12:36:35|\n",
      "|  1|  move|    101|    Tech|false|2022-06-07 12:37:25|\n",
      "|  1|  move|    102|Politics|false|2022-06-07 12:38:15|\n",
      "|  1| visit|    102|   Sport|false|2022-06-08 12:39:10|\n",
      "|  1|  move|    110|Politics|false|2022-06-08 12:39:01|\n",
      "|  2| visit|    103|   Sport| true|2022-06-05 10:15:05|\n",
      "|  2|  move|    109|Politics| true|2022-06-05 10:15:23|\n",
      "|  3| visit|    103|   Sport| true|2022-07-05 22:14:55|\n",
      "|  3| click|    119|Politics| true|2022-07-05 22:15:05|\n",
      "|  3|scroll|    112|   Sport| true|2022-07-05 22:16:15|\n",
      "|  3|scroll|    112|    Tech| true|2022-07-05 22:17:05|\n",
      "|  4| visit|     10|    Tech|false|2019-01-03 17:41:10|\n",
      "|  4|scroll|     11|    Tech|false|2019-01-03 17:41:50|\n",
      "+---+------+-------+--------+-----+-------------------+\n",
      "only showing top 15 rows\n",
      "\n"
     ]
    },
    {
     "name": "stderr",
     "output_type": "stream",
     "text": [
      "                                                                                \r"
     ]
    }
   ],
   "source": [
    "data = [\n",
    "    (1, int(datetime.datetime(2022, 6, 7, 12, 34, 55).timestamp()), \"visit\", 100, 'Sport', False),\n",
    "    (1, int(datetime.datetime(2022, 6, 7, 12, 35, 45).timestamp()), \"click\", 100, 'Tech', False),\n",
    "    (1, int(datetime.datetime(2022, 6, 7, 12, 36, 35).timestamp()), \"click\", 100, 'Tech', False),\n",
    "    (1, int(datetime.datetime(2022, 6, 7, 12, 37, 25).timestamp()), \"move\", 101, 'Tech', False),\n",
    "    (1, int(datetime.datetime(2022, 6, 7, 12, 38, 15).timestamp()), \"move\", 102, 'Politics', False),\n",
    "    (1, int(datetime.datetime(2022, 6, 8, 12, 39, 10).timestamp()), \"visit\", 102, 'Sport', False),\n",
    "    (1, int(datetime.datetime(2022, 6, 8, 12, 39, 1).timestamp()), \"move\", 110, 'Politics', False),\n",
    "    (2, int(datetime.datetime(2022, 6, 5, 10, 15, 5).timestamp()), \"visit\", 103, 'Sport', True),\n",
    "    (2, int(datetime.datetime(2022, 6, 5, 10, 15, 23).timestamp()), \"move\", 109, 'Politics', True),\n",
    "    (3, int(datetime.datetime(2022, 7, 5, 22, 14, 55).timestamp()), \"visit\", 103, 'Sport', True),\n",
    "    (3, int(datetime.datetime(2022, 7, 5, 22, 15, 5).timestamp()), \"click\", 119, 'Politics', True),\n",
    "    (3, int(datetime.datetime(2022, 7, 5, 22, 16, 15).timestamp()), \"scroll\", 112, 'Sport', True),\n",
    "    (3, int(datetime.datetime(2022, 7, 5, 22, 17, 5).timestamp()), \"scroll\", 112, 'Tech', True),\n",
    "    (4, int(datetime.datetime(2019, 1, 3, 17, 41, 10).timestamp()), \"visit\", 10, 'Tech', False),\n",
    "    (4, int(datetime.datetime(2019, 1, 3, 17, 41, 50).timestamp()), \"scroll\", 11, 'Tech', False),\n",
    "    (5, int(datetime.datetime(2010, 10, 12, 21, 13, 5).timestamp()), \"visit\", 1, 'Sport', True),\n",
    "    (5, int(datetime.datetime(2010, 10, 12, 21, 13, 10).timestamp()), \"scroll\", 2, 'Tech', True),\n",
    "    (5, int(datetime.datetime(2010, 11, 12, 21, 13, 15).timestamp()), \"visit\", 2, 'Politics', True),\n",
    "    (5, int(datetime.datetime(2010, 11, 12, 21, 13, 20).timestamp()), \"scroll\", 3, 'Politics', True),\n",
    "    (6, int(datetime.datetime(2017, 3, 15, 12, 0, 0).timestamp()), \"visit\", 56, 'Tech', True),\n",
    "    (6, int(datetime.datetime(2017, 3, 15, 12, 1, 0).timestamp()), \"scroll\", 56, 'Tech', True),\n",
    "    (6, int(datetime.datetime(2017, 3, 15, 12, 21, 0).timestamp()), \"click\", 56, 'Tech', True),\n",
    "    (6, int(datetime.datetime(2017, 3, 16, 12, 0, 0).timestamp()), \"visit\", 57, 'Tech', True),\n",
    "    (6, int(datetime.datetime(2017, 3, 16, 12, 1, 0).timestamp()), \"click\", 57, 'Tech', True),\n",
    "    (6, int(datetime.datetime(2017, 3, 16, 12, 1, 30).timestamp()), \"click\", 57, 'Tech', True),\n",
    "    (6, int(datetime.datetime(2017, 3, 15, 12, 2, 0).timestamp()), \"click\", 57, 'Tech', True),\n",
    "]\n",
    "\n",
    "df = spark.createDataFrame(data=data, schema = schema)\n",
    "\n",
    "df.select(*[i for i in df.columns if i != \"timestamp\"],\n",
    "    F.from_unixtime(\"timestamp\").alias(\"time\")).show(15)"
   ]
  },
  {
   "cell_type": "markdown",
   "id": "b3fe94df",
   "metadata": {},
   "source": [
    "### d.1 Вывод топ-5 самых активных посетителей сайта"
   ]
  },
  {
   "cell_type": "code",
   "execution_count": 5,
   "id": "22ff35cf",
   "metadata": {},
   "outputs": [
    {
     "name": "stderr",
     "output_type": "stream",
     "text": [
      "[Stage 3:==============================================>        (168 + 2) / 200]\r"
     ]
    },
    {
     "name": "stdout",
     "output_type": "stream",
     "text": [
      "+---+-----+\n",
      "| id|count|\n",
      "+---+-----+\n",
      "|  6|    7|\n",
      "|  1|    7|\n",
      "|  3|    4|\n",
      "|  5|    4|\n",
      "|  4|    2|\n",
      "+---+-----+\n",
      "only showing top 5 rows\n",
      "\n"
     ]
    },
    {
     "name": "stderr",
     "output_type": "stream",
     "text": [
      "                                                                                \r"
     ]
    }
   ],
   "source": [
    "df.groupby(\"id\")\\\n",
    "    .count()\\\n",
    "    .orderBy(F.desc(\"count\"))\\\n",
    "    .show(5)"
   ]
  },
  {
   "cell_type": "markdown",
   "id": "05f6149a",
   "metadata": {},
   "source": [
    "### d.2 Подсчет процента посетителей, у которых есть ЛК"
   ]
  },
  {
   "cell_type": "code",
   "execution_count": 6,
   "id": "558da0d8",
   "metadata": {},
   "outputs": [
    {
     "name": "stderr",
     "output_type": "stream",
     "text": [
      "                                                                                \r"
     ]
    },
    {
     "name": "stdout",
     "output_type": "stream",
     "text": [
      "Percentage of visitors with a personal account: 66%\n",
      "Percentage of visitors without a personal account: 33%\n"
     ]
    },
    {
     "name": "stderr",
     "output_type": "stream",
     "text": [
      "                                                                                \r"
     ]
    }
   ],
   "source": [
    "users_in = df.filter(df.sign == True)\\\n",
    "                .groupby(\"id\")\\\n",
    "                .count()\\\n",
    "                .distinct()\\\n",
    "                .count()\n",
    "users_out = df.filter(df.sign == False)\\\n",
    "                .groupby(\"id\")\\\n",
    "                .count()\\\n",
    "                .distinct()\\\n",
    "                .count()\n",
    "total_users = df.groupby(\"id\")\\\n",
    "                .count()\\\n",
    "                .distinct()\\\n",
    "                .count()\n",
    "print(f'Percentage of visitors with a personal account: {int(users_in*100./total_users)}%')\n",
    "print(f'Percentage of visitors without a personal account: {int(users_out*100./total_users)}%')"
   ]
  },
  {
   "cell_type": "markdown",
   "id": "c84a55bd",
   "metadata": {},
   "source": [
    "### d.3 Вывод топ-5 страниц сайта по показателю общего кол-ва кликов на данной странице"
   ]
  },
  {
   "cell_type": "code",
   "execution_count": 7,
   "id": "9916fc63",
   "metadata": {},
   "outputs": [
    {
     "name": "stdout",
     "output_type": "stream",
     "text": [
      "+-------+-----+\n",
      "|page_id|count|\n",
      "+-------+-----+\n",
      "|     57|    3|\n",
      "|    100|    2|\n",
      "|    119|    1|\n",
      "|     56|    1|\n",
      "+-------+-----+\n",
      "\n"
     ]
    }
   ],
   "source": [
    "df.filter(df.type == \"click\")\\\n",
    "    .groupby(\"page_id\")\\\n",
    "    .count()\\\n",
    "    .orderBy(\"count\", ascending = False)\\\n",
    "    .show(5)"
   ]
  },
  {
   "cell_type": "markdown",
   "id": "3bf50409",
   "metadata": {},
   "source": [
    "### d.4 Добавление столбца к фрейму данных со значением временного диапазона в рамках суток с размером окна – 4 часа(0-4, 4-8, 8-12 и т.д.)"
   ]
  },
  {
   "cell_type": "code",
   "execution_count": 8,
   "id": "5c85a559",
   "metadata": {},
   "outputs": [
    {
     "name": "stdout",
     "output_type": "stream",
     "text": [
      "+---+----------+------+-------+--------+-----+----------+\n",
      "| id| timestamp|  type|page_id|     tag| sign|time_range|\n",
      "+---+----------+------+-------+--------+-----+----------+\n",
      "|  1|1654605295| visit|    100|   Sport|false|         3|\n",
      "|  1|1654605345| click|    100|    Tech|false|         3|\n",
      "|  1|1654605395| click|    100|    Tech|false|         3|\n",
      "|  1|1654605445|  move|    101|    Tech|false|         3|\n",
      "|  1|1654605495|  move|    102|Politics|false|         3|\n",
      "|  1|1654691950| visit|    102|   Sport|false|         3|\n",
      "|  1|1654691941|  move|    110|Politics|false|         3|\n",
      "|  2|1654424105| visit|    103|   Sport| true|         2|\n",
      "|  2|1654424123|  move|    109|Politics| true|         2|\n",
      "|  3|1657059295| visit|    103|   Sport| true|         5|\n",
      "|  3|1657059305| click|    119|Politics| true|         5|\n",
      "|  3|1657059375|scroll|    112|   Sport| true|         5|\n",
      "|  3|1657059425|scroll|    112|    Tech| true|         5|\n",
      "|  4|1546537270| visit|     10|    Tech|false|         4|\n",
      "|  4|1546537310|scroll|     11|    Tech|false|         4|\n",
      "|  5|1286917985| visit|      1|   Sport| true|         5|\n",
      "|  5|1286917990|scroll|      2|    Tech| true|         5|\n",
      "|  5|1289596395| visit|      2|Politics| true|         5|\n",
      "|  5|1289596400|scroll|      3|Politics| true|         5|\n",
      "|  6|1489579200| visit|     56|    Tech| true|         3|\n",
      "+---+----------+------+-------+--------+-----+----------+\n",
      "only showing top 20 rows\n",
      "\n"
     ]
    }
   ],
   "source": [
    "df_with_range = df.select(*[i for i in df.columns])\\\n",
    "                .withColumn(\"time_range\", F.floor(F.hour(F.from_unixtime(\"timestamp\"))/4))\n",
    "df_with_range.show()"
   ]
  },
  {
   "cell_type": "markdown",
   "id": "87debc02",
   "metadata": {},
   "source": [
    "### d.5 Вывод временного промежутка на основе предыдущего задания, в течение которого было больше всего активностей на сайте"
   ]
  },
  {
   "cell_type": "code",
   "execution_count": 9,
   "id": "8d95958f",
   "metadata": {},
   "outputs": [
    {
     "name": "stdout",
     "output_type": "stream",
     "text": [
      "+----------+---------+\n",
      "|time_range|max_count|\n",
      "+----------+---------+\n",
      "|         3|       14|\n",
      "|         5|        8|\n",
      "|         2|        2|\n",
      "|         4|        2|\n",
      "+----------+---------+\n",
      "\n",
      "3\n",
      "+----------+\n",
      "|time_range|\n",
      "+----------+\n",
      "|         3|\n",
      "+----------+\n",
      "\n"
     ]
    }
   ],
   "source": [
    "df_tmp = df_with_range.groupby(\"time_range\")\\\n",
    "             .count()\\\n",
    "             .withColumnRenamed(\"count\",\"max_count\")\\\n",
    "             .orderBy(\"max_count\", ascending = False)\n",
    "df_tmp.show()\n",
    "\n",
    "# Простой вариант\n",
    "print(df_tmp.head()[0])\n",
    "\n",
    "# Сложный вариант\n",
    "df_tmp.select(\"time_range\").filter(df_tmp.max_count == df_tmp.agg({'max_count': 'max'}).head()[0]).show()"
   ]
  },
  {
   "cell_type": "markdown",
   "id": "d1cfc83d",
   "metadata": {},
   "source": [
    "### d.6 Создание второго фрейма данных, который содержит информацию о ЛК посетителя сайта со следующим списком атрибутов:\n",
    "1. Id – уникальный идентификатор личного кабинета\n",
    "2. User_id – уникальный идентификатор посетителя\n",
    "3. ФИО посетителя\n",
    "4. Дату рождения посетителя \n",
    "5. Дата создания ЛК"
   ]
  },
  {
   "cell_type": "markdown",
   "id": "905a7578",
   "metadata": {},
   "source": [
    "#### Создание схемы"
   ]
  },
  {
   "cell_type": "code",
   "execution_count": 10,
   "id": "612114fa",
   "metadata": {},
   "outputs": [],
   "source": [
    "schema_lk = T.StructType([\n",
    "                T.StructField(\"user_id\", T.IntegerType(), True),\n",
    "                T.StructField(\"id\", T.IntegerType(), True),\n",
    "                T.StructField(\"fio\", T.StringType(), True),\n",
    "                T.StructField(\"birthday_date\", T.DateType(), True),\n",
    "                T.StructField(\"registration_date\", T.DateType(), True)])"
   ]
  },
  {
   "cell_type": "markdown",
   "id": "60e4d981",
   "metadata": {},
   "source": [
    "#### Создание датафрейма"
   ]
  },
  {
   "cell_type": "code",
   "execution_count": 29,
   "id": "7d3feeb3",
   "metadata": {},
   "outputs": [
    {
     "name": "stdout",
     "output_type": "stream",
     "text": [
      "+-------+----+---------------------------+-------------+-----------------+\n",
      "|user_id|id  |fio                        |birthday_date|registration_date|\n",
      "+-------+----+---------------------------+-------------+-----------------+\n",
      "|1      |null|Мышкин Кондратий Семёнович |1994-01-12   |2022-06-06       |\n",
      "|2      |1   |Боброва Стефания Тимофеевна|2002-02-14   |2022-06-04       |\n",
      "|3      |2   |Мишин Станислав Русланович |1985-03-16   |2022-07-04       |\n",
      "|4      |null|Данилова Юлиана Романовна  |1999-04-18   |2019-01-02       |\n",
      "|5      |3   |Аксёнов Иван Борисович     |2005-05-20   |2010-10-11       |\n",
      "|6      |4   |Васильева Ева Анатольевна  |1990-06-22   |2017-03-14       |\n",
      "+-------+----+---------------------------+-------------+-----------------+\n",
      "\n"
     ]
    }
   ],
   "source": [
    "data_lk = [\n",
    "            (1, None, \"Мышкин Кондратий Семёнович\", datetime.datetime(1994, 1, 12), datetime.datetime(2022, 6, 6)),\n",
    "            (2, 1, \"Боброва Стефания Тимофеевна\", datetime.datetime(2002, 2, 14), datetime.datetime(2022, 6, 4)),\n",
    "            (3, 2, \"Мишин Станислав Русланович\", datetime.datetime(1985, 3, 16), datetime.datetime(2022, 7, 4)),\n",
    "            (4, None, \"Данилова Юлиана Романовна\", datetime.datetime(1999, 4, 18), datetime.datetime(2019, 1, 2)),\n",
    "            (5, 3, \"Аксёнов Иван Борисович\", datetime.datetime(2005, 5, 20), datetime.datetime(2010, 10, 11)),\n",
    "            (6, 4, \"Васильева Ева Анатольевна\", datetime.datetime(1990, 6, 22), datetime.datetime(2017, 3, 14)),\n",
    "]\n",
    "\n",
    "df_lk = spark.createDataFrame(data = data_lk, schema = schema_lk)\n",
    "\n",
    "df_lk.show(truncate=False)"
   ]
  },
  {
   "cell_type": "markdown",
   "id": "7fc108a0",
   "metadata": {},
   "source": [
    "### d.7 Вывод фамилий посетителей, которые читали хотя бы одну новость про спорт"
   ]
  },
  {
   "cell_type": "code",
   "execution_count": 42,
   "id": "ee2eb32e",
   "metadata": {},
   "outputs": [
    {
     "name": "stderr",
     "output_type": "stream",
     "text": [
      "[Stage 241:==============================================>        (63 + 2) / 75]\r"
     ]
    },
    {
     "name": "stdout",
     "output_type": "stream",
     "text": [
      "+-------+\n",
      "|surname|\n",
      "+-------+\n",
      "|Мышкин |\n",
      "|Мишин  |\n",
      "|Аксёнов|\n",
      "|Боброва|\n",
      "+-------+\n",
      "\n"
     ]
    },
    {
     "name": "stderr",
     "output_type": "stream",
     "text": [
      "                                                                                \r"
     ]
    }
   ],
   "source": [
    "@udf(returnType=T.StringType())\n",
    "def get_surname(fio: str):\n",
    "    return fio.split(\" \")[0]\n",
    "\n",
    "df_lk.join(\\\n",
    "           df.filter(df.tag == 'Sport')\n",
    "           .groupby('id')\n",
    "           .count(), df.id == df_lk.user_id, how='inner'\n",
    "          )\\\n",
    "        .select(get_surname('fio')\n",
    "                .alias(\"surname\"))\\\n",
    "        .show(truncate=False)"
   ]
  }
 ],
 "metadata": {
  "kernelspec": {
   "display_name": "Python 3 (ipykernel)",
   "language": "python",
   "name": "python3"
  },
  "language_info": {
   "codemirror_mode": {
    "name": "ipython",
    "version": 3
   },
   "file_extension": ".py",
   "mimetype": "text/x-python",
   "name": "python",
   "nbconvert_exporter": "python",
   "pygments_lexer": "ipython3",
   "version": "3.9.2"
  }
 },
 "nbformat": 4,
 "nbformat_minor": 5
}
